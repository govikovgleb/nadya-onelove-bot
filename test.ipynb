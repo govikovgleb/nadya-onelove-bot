{
 "metadata": {
  "language_info": {
   "codemirror_mode": {
    "name": "ipython",
    "version": 3
   },
   "file_extension": ".py",
   "mimetype": "text/x-python",
   "name": "python",
   "nbconvert_exporter": "python",
   "pygments_lexer": "ipython3",
   "version": "3.7.9-final"
  },
  "orig_nbformat": 2,
  "kernelspec": {
   "name": "python3",
   "display_name": "Python 3.7.9 64-bit",
   "metadata": {
    "interpreter": {
     "hash": "50085b077bf20764dc8b3bf7a4be58e2d16bbbe32062428da462a1a759e0d4ab"
    }
   }
  }
 },
 "nbformat": 4,
 "nbformat_minor": 2,
 "cells": [
  {
   "cell_type": "code",
   "execution_count": 5,
   "metadata": {},
   "outputs": [
    {
     "output_type": "stream",
     "name": "stdout",
     "text": [
      "create gen for Alex\ncreate gen for Kate\nName: Alex; msg: You look what a sweet pie here!\nName: Kate; msg: You are beautiful!\n"
     ]
    }
   ],
   "source": [
    "from messages import MessagesGenerator\n",
    "\n",
    "generator_by_user = {}\n",
    "\n",
    "def get_gen_by_name(user):\n",
    "    gen = generator_by_user.get(user)\n",
    "    if not gen:\n",
    "       gen = MessagesGenerator(user)\n",
    "       generator_by_user[user] = gen\n",
    "       print('create gen for', user)\n",
    "    return gen\n",
    "\n",
    "get_gen_by_name(\"Alex\")\n",
    "get_gen_by_name(\"Kate\")\n",
    "\n",
    "for _ in range(10):\n",
    "    for gen in generator_by_user.values():\n",
    "        print(f'Name: {gen.user}; msg: {gen.get_msg()}')"
   ]
  },
  {
   "cell_type": "code",
   "execution_count": 1,
   "metadata": {},
   "outputs": [
    {
     "output_type": "stream",
     "name": "stdout",
     "text": [
      "You look what a sweet pie here!\nWords can’t explain what a wonderful person you are.\nYou look what a sweet pie here!\nYou are beautiful!\nYou look what a sweet pie here!\nYou are beautiful!\nYou look what a sweet pie here!\nWords can’t explain what a wonderful person you are.\nYou are beautiful!\nWords can’t explain what a wonderful person you are.\n"
     ]
    }
   ],
   "source": [
    "\n",
    "from messages import MessagesGenerator\n",
    "generator = MessagesGenerator()\n",
    "\n",
    "for _ in range(10):\n",
    "    print(generator.get_msg())"
   ]
  },
  {
   "cell_type": "code",
   "execution_count": 8,
   "metadata": {},
   "outputs": [
    {
     "output_type": "stream",
     "name": "stdout",
     "text": [
      "Ferrari 200 Red\nFord 120 None\n"
     ]
    }
   ],
   "source": [
    "class Car:\n",
    "    def __init__(self, name, price):\n",
    "        self.name = name\n",
    "        self.price = price\n",
    "        self.color = None\n",
    "\n",
    "car_1 = Car('Ferrari', 200)\n",
    "car_2 = Car('Ford', 120)\n",
    "\n",
    "car_1.color = \"Red\"\n",
    "# car_2.color = \"Green\"\n",
    "\n",
    "for car in [car_1, car_2]:\n",
    "    print(car.name, car.price, car.color)"
   ]
  },
  {
   "cell_type": "code",
   "execution_count": 4,
   "metadata": {},
   "outputs": [
    {
     "output_type": "stream",
     "name": "stdout",
     "text": [
      "Gay\n"
     ]
    }
   ],
   "source": [
    "print(ivan)"
   ]
  }
 ]
}